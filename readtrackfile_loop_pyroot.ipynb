{
 "cells": [
  {
   "cell_type": "markdown",
   "id": "b0c19f0c",
   "metadata": {},
   "source": [
    "# Standard loop reading of tracks tree"
   ]
  },
  {
   "cell_type": "code",
   "execution_count": null,
   "id": "9f730c82",
   "metadata": {},
   "outputs": [],
   "source": [
    "import ROOT as r\n",
    "import fedrarootlogon\n",
    "import os"
   ]
  },
  {
   "cell_type": "code",
   "execution_count": null,
   "id": "6871942e",
   "metadata": {},
   "outputs": [],
   "source": [
    "#initializing empty reference system\n",
    "dproc = r.EdbDataProc()\n",
    "ali = r.EdbPVRec()\n",
    "scancond = r.EdbScanCond()\n",
    "ali.SetScanCond(scancond)"
   ]
  },
  {
   "cell_type": "code",
   "execution_count": null,
   "id": "3c32024e",
   "metadata": {},
   "outputs": [],
   "source": [
    "dproc.ReadTracksTree(ali,os.environ[\"CERNBOX_HOME\"]+\"/SNDCosmics_tutorial/b000001/b000001.0.0.0.trk.root\",\"nseg>2\")"
   ]
  },
  {
   "cell_type": "code",
   "execution_count": null,
   "id": "24c43514",
   "metadata": {},
   "outputs": [],
   "source": [
    "htx = r.TH1D(\"htx\",\"TX of tracks;TX\", 75,1.5,1.5)\n",
    "hsz = r.TH1D(\"hsz\",\"Z of segment positions;z[#mum]\",80,-7000,1000)"
   ]
  },
  {
   "cell_type": "markdown",
   "id": "bb8ca4e1",
   "metadata": {},
   "source": [
    "## Starting loop\n",
    "\n",
    "We do a loop on tracks, and a loop on segments from the track"
   ]
  },
  {
   "cell_type": "code",
   "execution_count": null,
   "id": "ecda8f04",
   "metadata": {},
   "outputs": [],
   "source": [
    "for track in ali.eTracks:\n",
    "    htx.Fill(track.TX())\n",
    "    for iseg in range(track.N()):\n",
    "        segment = track.GetSegment(iseg)\n",
    "        hsz.Fill(segment.Z())"
   ]
  },
  {
   "cell_type": "code",
   "execution_count": null,
   "id": "8cb1161b",
   "metadata": {},
   "outputs": [],
   "source": [
    "ctx = r.TCanvas(\"ctx\",\"TX angle of tracks\")\n",
    "htx.DrawClone()\n",
    "ctx.Draw()"
   ]
  },
  {
   "cell_type": "code",
   "execution_count": null,
   "id": "0d6a2302",
   "metadata": {},
   "outputs": [],
   "source": [
    "csz = r.TCanvas(\"csz\",\"Z position of track segments\")\n",
    "hsz.DrawClone()\n",
    "csz.Draw()"
   ]
  },
  {
   "cell_type": "code",
   "execution_count": null,
   "id": "d9155f1b",
   "metadata": {},
   "outputs": [],
   "source": [
    "whatisatrack = ali.eTracks[0]\n",
    "help(whatisatrack)"
   ]
  },
  {
   "cell_type": "code",
   "execution_count": null,
   "id": "664fb4b5",
   "metadata": {},
   "outputs": [],
   "source": [
    "whatisaseg = whatisatrack.GetSegment(0)\n",
    "help(whatisaseg)"
   ]
  },
  {
   "cell_type": "code",
   "execution_count": null,
   "id": "a1d57b00",
   "metadata": {},
   "outputs": [],
   "source": []
  }
 ],
 "metadata": {
  "kernelspec": {
   "display_name": "Python 3",
   "language": "python",
   "name": "python3"
  },
  "language_info": {
   "codemirror_mode": {
    "name": "ipython",
    "version": 3
   },
   "file_extension": ".py",
   "mimetype": "text/x-python",
   "name": "python",
   "nbconvert_exporter": "python",
   "pygments_lexer": "ipython3",
   "version": "3.9.6"
  }
 },
 "nbformat": 4,
 "nbformat_minor": 5
}
