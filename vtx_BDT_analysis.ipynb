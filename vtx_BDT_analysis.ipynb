{
 "cells": [
  {
   "cell_type": "code",
   "execution_count": null,
   "id": "b2c1a925",
   "metadata": {
    "slideshow": {
     "slide_type": "slide"
    }
   },
   "outputs": [],
   "source": [
    "import ROOT as r\n",
    "r.gStyle.SetOptStat(0)\n",
    "\n",
    "\n",
    "%jsroot off\n"
   ]
  },
  {
   "cell_type": "code",
   "execution_count": null,
   "id": "f43629a6",
   "metadata": {
    "slideshow": {
     "slide_type": "slide"
    }
   },
   "outputs": [],
   "source": [
    "path = '/eos/experiment/sndlhc/emulsionData/2022/emureco_Napoli/RUN3/b000044/vertexfiles'\n",
    "dataFile = path+'/vertex_TMVA.root'\n",
    "sigFile = path+'/vertex_sigmu.root'\n",
    "bkgFile = path+'/vertex_muon.root'\n",
    "\n",
    "dataVtx = r.TFile.Open(dataFile)\n",
    "sigVtx = r.TFile.Open(sigFile)\n",
    "bkgVtx = r.TFile.Open(bkgFile)\n",
    "\n",
    "dataTree = dataVtx.vtx\n",
    "sigTree = sigVtx.vtx\n",
    "bkgTree = bkgVtx.vtx"
   ]
  },
  {
   "cell_type": "markdown",
   "id": "f37d3e69",
   "metadata": {
    "slideshow": {
     "slide_type": "slide"
    }
   },
   "source": [
    "# Vertex analysis variables\n",
    "\n",
    "Multiplicity            = number of tracks\n",
    "\n",
    "Mean Impact Parameter   = distance between the track and the vertex\n",
    "\n",
    "Max Delta Phi           = maximum difference in the transverse angle\n",
    "\n",
    "Mean Fill Factor        = number of segments / number of available films\n",
    "\n",
    "Probability             = Kalman Filter probability"
   ]
  },
  {
   "cell_type": "code",
   "execution_count": null,
   "id": "7bc83687",
   "metadata": {
    "slideshow": {
     "slide_type": "subslide"
    }
   },
   "outputs": [],
   "source": [
    "cn = r.TCanvas(\"cn\",\"cn\",1500, 400)\n",
    "cn.Divide(3,1)\n",
    "\n",
    "cn.cd(1)\n",
    "dataTree.SetLineColor(r.kBlack)\n",
    "dataTree.Draw(\"ntrks\")\n",
    "tn1 = r.TPaveText(.4,.75,.6,.85,\"NBNDC\")\n",
    "tn1.AddText(\"data\")  \n",
    "tn1.GetListOfLines().Last().SetTextColor(r.kBlack)\n",
    "tn1.SetFillColor(r.kWhite)\n",
    "tn1.Draw()\n",
    "\n",
    "cn.cd(2)\n",
    "bkgTree.SetLineColor(r.kRed)\n",
    "bkgTree.Draw(\"ntrks\")\n",
    "tn2 = r.TPaveText(.35,.75,.65,.85,\"NBNDC\")\n",
    "tn2.AddText(\"background\")  \n",
    "tn2.GetListOfLines().Last().SetTextColor(r.kRed)\n",
    "tn2.SetFillColor(r.kWhite)\n",
    "tn2.Draw()\n",
    "\n",
    "cn.cd(3)\n",
    "sigTree.SetLineColor(r.kBlue)\n",
    "sigTree.Draw(\"ntrks\")\n",
    "tn3 = r.TPaveText(.4,.75,.6,.85,\"NBNDC\")\n",
    "tn3.AddText(\"signal\")  \n",
    "tn3.GetListOfLines().Last().SetTextColor(r.kBlue)\n",
    "tn3.SetFillColor(r.kWhite)\n",
    "tn3.Draw()"
   ]
  },
  {
   "cell_type": "code",
   "execution_count": null,
   "id": "b4bec87d",
   "metadata": {
    "slideshow": {
     "slide_type": "subslide"
    }
   },
   "outputs": [],
   "source": [
    "cn.Draw()"
   ]
  },
  {
   "cell_type": "code",
   "execution_count": null,
   "id": "dddb1f47",
   "metadata": {
    "slideshow": {
     "slide_type": "subslide"
    }
   },
   "outputs": [],
   "source": [
    "cip = r.TCanvas(\"cip\",\"cip\",1500, 400)\n",
    "cip.Divide(3,1)\n",
    "\n",
    "cip.cd(1)\n",
    "dataTree.SetLineColor(r.kBlack)\n",
    "dataTree.Draw(\"meanIP\")\n",
    "tip1 = r.TPaveText(.4,.75,.6,.85,\"NBNDC\")\n",
    "tip1.AddText(\"data\")  \n",
    "tip1.GetListOfLines().Last().SetTextColor(r.kBlack)\n",
    "tip1.SetFillColor(r.kWhite)\n",
    "tip1.Draw()\n",
    "\n",
    "cip.cd(2)\n",
    "bkgTree.SetLineColor(r.kRed)\n",
    "bkgTree.Draw(\"meanIP\")\n",
    "tip2 = r.TPaveText(.35,.75,.65,.85,\"NBNDC\")\n",
    "tip2.AddText(\"background\")  \n",
    "tip2.GetListOfLines().Last().SetTextColor(r.kRed)\n",
    "tip2.SetFillColor(r.kWhite)\n",
    "tip2.Draw()\n",
    "\n",
    "cip.cd(3)\n",
    "sigTree.SetLineColor(r.kBlue)\n",
    "sigTree.Draw(\"meanIP\")\n",
    "tip3 = r.TPaveText(.4,.75,.6,.85,\"NBNDC\")\n",
    "tip3.AddText(\"signal\")  \n",
    "tip3.GetListOfLines().Last().SetTextColor(r.kBlue)\n",
    "tip3.SetFillColor(r.kWhite)\n",
    "tip3.Draw()"
   ]
  },
  {
   "cell_type": "code",
   "execution_count": null,
   "id": "7ba0dca3",
   "metadata": {
    "slideshow": {
     "slide_type": "subslide"
    }
   },
   "outputs": [],
   "source": [
    "cip.Draw()"
   ]
  },
  {
   "cell_type": "code",
   "execution_count": null,
   "id": "9bebc232",
   "metadata": {
    "slideshow": {
     "slide_type": "subslide"
    }
   },
   "outputs": [],
   "source": [
    "cdp = r.TCanvas(\"cdp\",\"cdp\",1500, 400)\n",
    "cdp.Divide(3,1)\n",
    "\n",
    "cdp.cd(1)\n",
    "dataTree.SetLineColor(r.kBlack)\n",
    "dataTree.Draw(\"maxdphi\")\n",
    "tdp1 = r.TPaveText(.4,.75,.6,.85,\"NBNDC\")\n",
    "tdp1.AddText(\"data\")  \n",
    "tdp1.GetListOfLines().Last().SetTextColor(r.kBlack)\n",
    "tdp1.SetFillColor(r.kWhite)\n",
    "tdp1.Draw()\n",
    "\n",
    "cdp.cd(2)\n",
    "bkgTree.SetLineColor(r.kRed)\n",
    "bkgTree.Draw(\"maxdphi\")\n",
    "tdp2 = r.TPaveText(.35,.75,.65,.85,\"NBNDC\")\n",
    "tdp2.AddText(\"background\")  \n",
    "tdp2.GetListOfLines().Last().SetTextColor(r.kRed)\n",
    "tdp2.SetFillColor(r.kWhite)\n",
    "tdp2.Draw()\n",
    "\n",
    "cdp.cd(3)\n",
    "sigTree.SetLineColor(r.kBlue)\n",
    "sigTree.Draw(\"maxdphi\")\n",
    "tdp3 = r.TPaveText(.4,.75,.6,.85,\"NBNDC\")\n",
    "tdp3.AddText(\"signal\")  \n",
    "tdp3.GetListOfLines().Last().SetTextColor(r.kBlue)\n",
    "tdp3.SetFillColor(r.kWhite)\n",
    "tdp3.Draw()"
   ]
  },
  {
   "cell_type": "code",
   "execution_count": null,
   "id": "10a00b4e",
   "metadata": {
    "slideshow": {
     "slide_type": "subslide"
    }
   },
   "outputs": [],
   "source": [
    "cdp.Draw()"
   ]
  },
  {
   "cell_type": "code",
   "execution_count": null,
   "id": "85a0769f",
   "metadata": {
    "slideshow": {
     "slide_type": "subslide"
    }
   },
   "outputs": [],
   "source": [
    "cff = r.TCanvas(\"cff\",\"cff\",1500, 400)\n",
    "cff.Divide(3,1)\n",
    "\n",
    "cff.cd(1)\n",
    "dataTree.SetLineColor(r.kBlack)\n",
    "dataTree.Draw(\"fillfact\")\n",
    "tff1 = r.TPaveText(.4,.75,.6,.85,\"NBNDC\")\n",
    "tff1.AddText(\"data\")  \n",
    "tff1.GetListOfLines().Last().SetTextColor(r.kBlack)\n",
    "tff1.SetFillColor(r.kWhite)\n",
    "tff1.Draw()\n",
    "\n",
    "cff.cd(2)\n",
    "bkgTree.SetLineColor(r.kRed)\n",
    "bkgTree.Draw(\"fillfact\")\n",
    "tff2 = r.TPaveText(.35,.75,.65,.85,\"NBNDC\")\n",
    "tff2.AddText(\"background\")  \n",
    "tff2.GetListOfLines().Last().SetTextColor(r.kRed)\n",
    "tff2.SetFillColor(r.kWhite)\n",
    "tff2.Draw()\n",
    "\n",
    "cff.cd(3)\n",
    "sigTree.SetLineColor(r.kBlue)\n",
    "sigTree.Draw(\"fillfact\")\n",
    "tff3 = r.TPaveText(.4,.75,.6,.85,\"NBNDC\")\n",
    "tff3.AddText(\"signal\")  \n",
    "tff3.GetListOfLines().Last().SetTextColor(r.kBlue)\n",
    "tff3.SetFillColor(r.kWhite)\n",
    "tff3.Draw()"
   ]
  },
  {
   "cell_type": "code",
   "execution_count": null,
   "id": "08ef14da",
   "metadata": {
    "slideshow": {
     "slide_type": "subslide"
    }
   },
   "outputs": [],
   "source": [
    "cff.Draw()"
   ]
  },
  {
   "cell_type": "code",
   "execution_count": null,
   "id": "9a3e58b5",
   "metadata": {
    "slideshow": {
     "slide_type": "subslide"
    }
   },
   "outputs": [],
   "source": [
    "cp = r.TCanvas(\"cp\",\"cp\",1500, 400)\n",
    "cp.Divide(3,1)\n",
    "\n",
    "cp.cd(1)\n",
    "dataTree.SetLineColor(r.kBlack)\n",
    "dataTree.Draw(\"prob\")\n",
    "tp1 = r.TPaveText(.4,.75,.6,.85,\"NBNDC\")\n",
    "tp1.AddText(\"data\")  \n",
    "tp1.GetListOfLines().Last().SetTextColor(r.kBlack)\n",
    "tp1.SetFillColor(r.kWhite)\n",
    "tp1.Draw()\n",
    "\n",
    "cp.cd(2)\n",
    "bkgTree.SetLineColor(r.kRed)\n",
    "bkgTree.Draw(\"prob\")\n",
    "tp2 = r.TPaveText(.35,.75,.65,.85,\"NBNDC\")\n",
    "tp2.AddText(\"background\")  \n",
    "tp2.GetListOfLines().Last().SetTextColor(r.kRed)\n",
    "tp2.SetFillColor(r.kWhite)\n",
    "tp2.Draw()\n",
    "\n",
    "cp.cd(3)\n",
    "sigTree.SetLineColor(r.kBlue)\n",
    "sigTree.Draw(\"prob\")\n",
    "tp3 = r.TPaveText(.4,.75,.6,.85,\"NBNDC\")\n",
    "tp3.AddText(\"signal\")  \n",
    "tp3.GetListOfLines().Last().SetTextColor(r.kBlue)\n",
    "tp3.SetFillColor(r.kWhite)\n",
    "tp3.Draw()"
   ]
  },
  {
   "cell_type": "code",
   "execution_count": null,
   "id": "6e846dfe",
   "metadata": {
    "scrolled": true,
    "slideshow": {
     "slide_type": "subslide"
    }
   },
   "outputs": [],
   "source": [
    "cp.Draw()"
   ]
  },
  {
   "cell_type": "markdown",
   "id": "94282055",
   "metadata": {
    "slideshow": {
     "slide_type": "slide"
    }
   },
   "source": [
    "# TRAIN A BOOSTED DECISION TREE (BDT)\n",
    "\n",
    "With the Monte Carlo samples of signal and background\n",
    "\n",
    "we can train a Multi Variate Analysis (MVA) based on the studied variables\n",
    "\n",
    "and apply the BDT score to the data"
   ]
  },
  {
   "cell_type": "code",
   "execution_count": null,
   "id": "16846191",
   "metadata": {
    "scrolled": false,
    "slideshow": {
     "slide_type": "subslide"
    }
   },
   "outputs": [],
   "source": [
    "from IPython.display import Image, display\n",
    "display(Image(filename=path+'/mva_BDT.png'))"
   ]
  },
  {
   "cell_type": "code",
   "execution_count": null,
   "id": "1cfe5941",
   "metadata": {
    "scrolled": false,
    "slideshow": {
     "slide_type": "slide"
    }
   },
   "outputs": [],
   "source": [
    "cb = r.TCanvas(\"cb\",\"cb\",600, 500)\n",
    "dataTree.SetLineColor(r.kBlack)\n",
    "dataTree.Draw(\"BDT\")\n",
    "tb1 = r.TPaveText(.4,.75,.6,.85,\"NBNDC\")\n",
    "tb1.AddText(\"data\")  \n",
    "tb1.GetListOfLines().Last().SetTextColor(r.kBlack)\n",
    "tb1.SetFillColor(r.kWhite)\n",
    "tb1.Draw()\n",
    "\n",
    "cb.Draw()"
   ]
  },
  {
   "cell_type": "code",
   "execution_count": null,
   "id": "46d26034",
   "metadata": {
    "slideshow": {
     "slide_type": "subslide"
    }
   },
   "outputs": [],
   "source": [
    "dataTree.GetEntries()"
   ]
  },
  {
   "cell_type": "code",
   "execution_count": null,
   "id": "1d0d33c5",
   "metadata": {
    "slideshow": {
     "slide_type": "subslide"
    }
   },
   "outputs": [],
   "source": [
    "dataTree.GetEntries(\"BDT>0\")"
   ]
  },
  {
   "cell_type": "code",
   "execution_count": null,
   "id": "52b59440",
   "metadata": {
    "slideshow": {
     "slide_type": "slide"
    }
   },
   "outputs": [],
   "source": [
    "cn2 = r.TCanvas(\"cn2\",\"cn2\",1200, 500)\n",
    "cn2.Divide(2,1)\n",
    "\n",
    "cn2.cd(1)\n",
    "dataTree.SetLineColor(r.kBlack)\n",
    "dataTree.Draw(\"ntrks\")\n",
    "tn21 = r.TPaveText(.4,.75,.6,.85,\"NBNDC\")\n",
    "tn21.AddText(\"data\")  \n",
    "tn21.GetListOfLines().Last().SetTextColor(r.kBlack)\n",
    "tn21.SetFillColor(r.kWhite)\n",
    "tn21.Draw()\n",
    "\n",
    "cn2.cd(2)\n",
    "dataTree.SetLineColor(r.kGreen+1)\n",
    "dataTree.Draw(\"ntrks\",\"BDT>0\")\n",
    "tn22 = r.TPaveText(.4,.75,.6,.85,\"NBNDC\")\n",
    "tn22.AddText(\"selected\")  \n",
    "tn22.GetListOfLines().Last().SetTextColor(r.kGreen+1)\n",
    "tn22.SetFillColor(r.kWhite)\n",
    "tn22.Draw()"
   ]
  },
  {
   "cell_type": "code",
   "execution_count": null,
   "id": "97c6ffd6",
   "metadata": {
    "slideshow": {
     "slide_type": "slide"
    }
   },
   "outputs": [],
   "source": [
    "cn2.Draw()"
   ]
  },
  {
   "cell_type": "code",
   "execution_count": null,
   "id": "e52a3619",
   "metadata": {
    "slideshow": {
     "slide_type": "subslide"
    }
   },
   "outputs": [],
   "source": [
    "cip2 = r.TCanvas(\"cip2\",\"cip2\",1200, 500)\n",
    "cip2.Divide(2,1)\n",
    "\n",
    "cip2.cd(1)\n",
    "dataTree.SetLineColor(r.kBlack)\n",
    "dataTree.Draw(\"meanIP\")\n",
    "tip21 = r.TPaveText(.4,.75,.6,.85,\"NBNDC\")\n",
    "tip21.AddText(\"data\")  \n",
    "tip21.GetListOfLines().Last().SetTextColor(r.kBlack)\n",
    "tip21.SetFillColor(r.kWhite)\n",
    "tip21.Draw()\n",
    "\n",
    "cip2.cd(2)\n",
    "dataTree.SetLineColor(r.kGreen+1)\n",
    "dataTree.Draw(\"meanIP\",\"BDT>0\")\n",
    "tip22 = r.TPaveText(.4,.75,.6,.85,\"NBNDC\")\n",
    "tip22.AddText(\"selected\")  \n",
    "tip22.GetListOfLines().Last().SetTextColor(r.kGreen+1)\n",
    "tip22.SetFillColor(r.kWhite)\n",
    "tip22.Draw()"
   ]
  },
  {
   "cell_type": "code",
   "execution_count": null,
   "id": "29253fb4",
   "metadata": {
    "slideshow": {
     "slide_type": "subslide"
    }
   },
   "outputs": [],
   "source": [
    "cip2.Draw()"
   ]
  },
  {
   "cell_type": "code",
   "execution_count": null,
   "id": "e081dec4",
   "metadata": {
    "slideshow": {
     "slide_type": "subslide"
    }
   },
   "outputs": [],
   "source": [
    "cdp2 = r.TCanvas(\"cdp2\",\"cdp2\",1200, 500)\n",
    "cdp2.Divide(2,1)\n",
    "\n",
    "cdp2.cd(1)\n",
    "dataTree.SetLineColor(r.kBlack)\n",
    "dataTree.Draw(\"maxdphi\")\n",
    "tdp21 = r.TPaveText(.4,.75,.6,.85,\"NBNDC\")\n",
    "tdp21.AddText(\"data\")  \n",
    "tdp21.GetListOfLines().Last().SetTextColor(r.kBlack)\n",
    "tdp21.SetFillColor(r.kWhite)\n",
    "tdp21.Draw()\n",
    "\n",
    "cdp2.cd(2)\n",
    "dataTree.SetLineColor(r.kGreen+1)\n",
    "dataTree.Draw(\"maxdphi\",\"BDT>0\")\n",
    "tdp22 = r.TPaveText(.4,.75,.6,.85,\"NBNDC\")\n",
    "tdp22.AddText(\"selected\")  \n",
    "tdp22.GetListOfLines().Last().SetTextColor(r.kGreen+1)\n",
    "tdp22.SetFillColor(r.kWhite)\n",
    "tdp22.Draw()"
   ]
  },
  {
   "cell_type": "code",
   "execution_count": null,
   "id": "eee287f3",
   "metadata": {
    "slideshow": {
     "slide_type": "subslide"
    }
   },
   "outputs": [],
   "source": [
    "cdp2.Draw()"
   ]
  },
  {
   "cell_type": "code",
   "execution_count": null,
   "id": "23bd2c21",
   "metadata": {
    "slideshow": {
     "slide_type": "subslide"
    }
   },
   "outputs": [],
   "source": [
    "cff2 = r.TCanvas(\"cff2\",\"cff2\",1200, 500)\n",
    "cff2.Divide(2,1)\n",
    "\n",
    "cff2.cd(1)\n",
    "dataTree.SetLineColor(r.kBlack)\n",
    "dataTree.Draw(\"fillfact\")\n",
    "tff21 = r.TPaveText(.4,.75,.6,.85,\"NBNDC\")\n",
    "tff21.AddText(\"data\")  \n",
    "tff21.GetListOfLines().Last().SetTextColor(r.kBlack)\n",
    "tff21.SetFillColor(r.kWhite)\n",
    "tff21.Draw()\n",
    "\n",
    "cff2.cd(2)\n",
    "dataTree.SetLineColor(r.kGreen+1)\n",
    "dataTree.Draw(\"fillfact\",\"BDT>0\")\n",
    "tff22 = r.TPaveText(.4,.75,.6,.85,\"NBNDC\")\n",
    "tff22.AddText(\"selected\")  \n",
    "tff22.GetListOfLines().Last().SetTextColor(r.kGreen+1)\n",
    "tff22.SetFillColor(r.kWhite)\n",
    "tff22.Draw()"
   ]
  },
  {
   "cell_type": "code",
   "execution_count": null,
   "id": "d05d741d",
   "metadata": {
    "slideshow": {
     "slide_type": "subslide"
    }
   },
   "outputs": [],
   "source": [
    "cff2.Draw()"
   ]
  },
  {
   "cell_type": "code",
   "execution_count": null,
   "id": "5c11d0c6",
   "metadata": {
    "slideshow": {
     "slide_type": "subslide"
    }
   },
   "outputs": [],
   "source": [
    "cp2 = r.TCanvas(\"cp2\",\"cp2\",1200, 500)\n",
    "cp2.Divide(2,1)\n",
    "\n",
    "cp2.cd(1)\n",
    "dataTree.SetLineColor(r.kBlack)\n",
    "dataTree.Draw(\"prob\")\n",
    "tp21 = r.TPaveText(.4,.75,.6,.85,\"NBNDC\")\n",
    "tp21.AddText(\"data\")  \n",
    "tp21.GetListOfLines().Last().SetTextColor(r.kBlack)\n",
    "tp21.SetFillColor(r.kWhite)\n",
    "tp21.Draw()\n",
    "\n",
    "cp2.cd(2)\n",
    "dataTree.SetLineColor(r.kGreen+1)\n",
    "dataTree.Draw(\"prob\",\"BDT>0\")\n",
    "tp22 = r.TPaveText(.4,.75,.6,.85,\"NBNDC\")\n",
    "tp22.AddText(\"selected\")  \n",
    "tp22.GetListOfLines().Last().SetTextColor(r.kGreen+1)\n",
    "tp22.SetFillColor(r.kWhite)\n",
    "tp22.Draw()"
   ]
  },
  {
   "cell_type": "code",
   "execution_count": null,
   "id": "5cdafcdc",
   "metadata": {
    "slideshow": {
     "slide_type": "subslide"
    }
   },
   "outputs": [],
   "source": [
    "cp2.Draw()"
   ]
  }
 ],
 "metadata": {
  "@webio": {
   "lastCommId": null,
   "lastKernelId": null
  },
  "celltoolbar": "Slideshow",
  "kernelspec": {
   "display_name": "Python 3",
   "language": "python",
   "name": "python3"
  },
  "language_info": {
   "codemirror_mode": {
    "name": "ipython",
    "version": 3
   },
   "file_extension": ".py",
   "mimetype": "text/x-python",
   "name": "python",
   "nbconvert_exporter": "python",
   "pygments_lexer": "ipython3",
   "version": "3.9.12"
  }
 },
 "nbformat": 4,
 "nbformat_minor": 5
}
