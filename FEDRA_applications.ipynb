{
 "cells": [
  {
   "cell_type": "markdown",
   "id": "f4375098",
   "metadata": {},
   "source": [
    "# ScanSet workflow and FEDRA emrec applications\n",
    "\n",
    "Here, the standard reconstruction workflow is illustrated. You may notice they are all bash commands, since we usually perform these operation from the terminal, to build our filesystem\n",
    "\n",
    "## Creating working folder, getting data\n",
    "\n",
    "We will use data from SNDCosmics commissionining (first 5 films of WALL1). We will make reconstruction only in 1 cm2 surface, for time and memory reasons.\n",
    "\n",
    "We create a folder named SNDCosmics_tutorial/b000001 in our filesystem, then we create a link to the data\n",
    "\n",
    "Plate numbers are named as p001, p002...p005"
   ]
  },
  {
   "cell_type": "code",
   "execution_count": null,
   "id": "0b9de0c1",
   "metadata": {},
   "outputs": [],
   "source": [
    "!mkdir $CERNBOX_HOME/SNDCosmics_tutorial\n",
    "!mkdir $CERNBOX_HOME/SNDCosmics_tutorial/b000001\n",
    "!mkdir $CERNBOX_HOME/SNDCosmics_tutorial/b000001/p00{1..5}"
   ]
  },
  {
   "cell_type": "markdown",
   "id": "94644c87",
   "metadata": {},
   "source": [
    "we then create a soft link to our raw data in the working folder.\n",
    "\n",
    "Raw data needs to have name format as \n",
    "\n",
    "1.1.0.0.raw.root\n",
    "\n",
    "The four digits convention is:\n",
    "\n",
    "* brick number (1, as in b000001);\n",
    "* plate number (1, as in p001);\n",
    "* major index (optional);\n",
    "* minor index (optional);\n",
    "\n",
    "Major and minor indices are useful to have multiple instances of the set. For now, just set them both to 0"
   ]
  },
  {
   "cell_type": "code",
   "execution_count": null,
   "id": "210516fb",
   "metadata": {},
   "outputs": [],
   "source": [
    "%%bash\n",
    "for i in $(seq -w 1 5);\n",
    "do\n",
    " ln -s /eos/experiment/sndlhc/emulsionData/SNDCosmics/b000001/p00$i/1.$i.0.0.raw.root $CERNBOX_HOME/SNDCosmics_tutorial/b000001/p00$i/1.$i.0.0.raw.root\n",
    "done"
   ]
  },
  {
   "cell_type": "code",
   "execution_count": null,
   "id": "9f44f2fb",
   "metadata": {},
   "outputs": [],
   "source": [
    "!ls $CERNBOX_HOME/SNDCosmics_tutorial/b000001"
   ]
  },
  {
   "cell_type": "markdown",
   "id": "d5f35270",
   "metadata": {},
   "source": [
    "## Fitting base-tracks couples (linking)\n",
    "\n",
    "Now we connect the information from the two layers of each film. We copy the example of parameters into the working folder"
   ]
  },
  {
   "cell_type": "code",
   "execution_count": null,
   "id": "a2b20cad",
   "metadata": {},
   "outputs": [],
   "source": [
    "!cp *.rootrc $CERNBOX_HOME/SNDCosmics_tutorial/b000001"
   ]
  },
  {
   "cell_type": "markdown",
   "id": "0b7c1d56",
   "metadata": {},
   "source": [
    "Let us have a look at this file"
   ]
  },
  {
   "cell_type": "code",
   "execution_count": null,
   "id": "fdcde41e",
   "metadata": {},
   "outputs": [],
   "source": [
    "import os\n",
    "os.chdir(os.environ[\"CERNBOX_HOME\"]+\"/SNDCosmics_tutorial/b000001\")"
   ]
  },
  {
   "cell_type": "code",
   "execution_count": null,
   "id": "73319eac",
   "metadata": {},
   "outputs": [],
   "source": [
    "!ls\n",
    "!cat link.rootrc"
   ]
  },
  {
   "cell_type": "markdown",
   "id": "3dddd5af",
   "metadata": {},
   "source": [
    "We can see that only a small area is selected (Header CUT). Other important parameters are:\n",
    "\n",
    "* ICUT, selecting the segments\n",
    "* Shr0 and DShr, the initial point of shrinkage and the shrinkage tolerance\n",
    "* ThetaLimits, setting the angular limits\n",
    "\n",
    "\n",
    "Let us make a set and proceed to the linking"
   ]
  },
  {
   "cell_type": "code",
   "execution_count": null,
   "id": "1e9d8751",
   "metadata": {},
   "outputs": [],
   "source": [
    "!makescanset -set=1.0.0.0 -dzbase=175 -from_plate=5 -to_plate=1 -v=2"
   ]
  },
  {
   "cell_type": "code",
   "execution_count": null,
   "id": "d51aa4fa",
   "metadata": {},
   "outputs": [],
   "source": [
    "!emlink -set=1.0.0.0 -new -v=0"
   ]
  },
  {
   "cell_type": "code",
   "execution_count": null,
   "id": "c59955c4",
   "metadata": {},
   "outputs": [],
   "source": [
    "import ROOT as r\n",
    "import fedrarootlogon\n"
   ]
  },
  {
   "cell_type": "code",
   "execution_count": null,
   "id": "90da623c",
   "metadata": {},
   "outputs": [],
   "source": [
    "couplesfile = r.TFile.Open(\"p001/1.1.0.0.cp.root\")\n",
    "reportcanvas = couplesfile.Get(\"report\")\n",
    "reportcanvas.Draw()"
   ]
  },
  {
   "cell_type": "code",
   "execution_count": null,
   "id": "2f193df1",
   "metadata": {},
   "outputs": [],
   "source": [
    "!ls"
   ]
  },
  {
   "cell_type": "markdown",
   "id": "5862a318",
   "metadata": {},
   "source": [
    "## Plate to plate alignment\n",
    "Finding affine transformation between plates. Parameters are stored in rootrc file\n",
    "\n",
    "We will perform here a 3 steps alignment, with progressive more restrictive pair of plates\n",
    "\n",
    "Selection of couples is performed in the **readCPcut** string\n",
    "\n",
    "### First alignment\n",
    "\n",
    "Very small angle, less than 100 mrad. \n",
    "\n",
    "DZ correction is not computed here. \n",
    "\n",
    "Used to find rough xy offset. \n",
    "\n",
    "Notice: here, the -reset option is applied. This is done only in the first stage, as it will **reset all previous affine transformations** (we start from scratch)."
   ]
  },
  {
   "cell_type": "code",
   "execution_count": null,
   "id": "33b213b8",
   "metadata": {},
   "outputs": [],
   "source": [
    "!cat first_align.rootrc"
   ]
  },
  {
   "cell_type": "code",
   "execution_count": null,
   "id": "a7a6910d",
   "metadata": {},
   "outputs": [],
   "source": [
    "%%bash\n",
    "cp first_align.rootrc align.rootrc\n",
    "makescanset -set=1.0.0.0 -dzbase=175 -dz=-1350 -from_plate=5 -to_plate=1 -v=2 -reset"
   ]
  },
  {
   "cell_type": "code",
   "execution_count": null,
   "id": "8ae4d576",
   "metadata": {},
   "outputs": [],
   "source": [
    "!emalign -set=1.0.0.0 -new -v=0"
   ]
  },
  {
   "cell_type": "code",
   "execution_count": null,
   "id": "8fdbc142",
   "metadata": {},
   "outputs": [],
   "source": [
    "!cp b000001.0.0.0.align.pdf firstalign_5_1.pdf"
   ]
  },
  {
   "cell_type": "markdown",
   "id": "cdd676dc",
   "metadata": {},
   "source": [
    "### Second alignment\n",
    "\n",
    "Here, we do a larger angle interval. \n",
    "\n",
    "We also usually align only in a small area (1 cm2). In this case, we already have only a small area, so no position cut is applied\n"
   ]
  },
  {
   "cell_type": "code",
   "execution_count": null,
   "id": "6c1785a7",
   "metadata": {},
   "outputs": [],
   "source": [
    "!cat second_align.rootrc"
   ]
  },
  {
   "cell_type": "code",
   "execution_count": null,
   "id": "3227451a",
   "metadata": {},
   "outputs": [],
   "source": [
    "%%bash\n",
    "cp second_align.rootrc align.rootrc\n",
    "makescanset -set=1.0.0.0 -dzbase=175 -dz=-1350 -from_plate=5 -to_plate=1 -v=2"
   ]
  },
  {
   "cell_type": "code",
   "execution_count": null,
   "id": "1b6ec757",
   "metadata": {},
   "outputs": [],
   "source": [
    "%%bash\n",
    "emalign -set=1.0.0.0 -new -v=0\n",
    "cp b000001.0.0.0.align.pdf secondalign_5_1.pdf"
   ]
  },
  {
   "cell_type": "markdown",
   "id": "988b8045",
   "metadata": {},
   "source": [
    "### Third alignment\n",
    "\n",
    "Last alignment, and the most accurate (the sigma and the maximum offset are set lower).\n",
    "\n",
    "It is usually performed in the whole surface\n"
   ]
  },
  {
   "cell_type": "code",
   "execution_count": null,
   "id": "7c1d714d",
   "metadata": {},
   "outputs": [],
   "source": [
    "!cat third_align.rootrc"
   ]
  },
  {
   "cell_type": "code",
   "execution_count": null,
   "id": "139e5bcc",
   "metadata": {},
   "outputs": [],
   "source": [
    "%%bash\n",
    "cp third_align.rootrc align.rootrc\n",
    "makescanset -set=1.0.0.0 -dzbase=175 -dz=-1350 -from_plate=5 -to_plate=1 -v=2"
   ]
  },
  {
   "cell_type": "code",
   "execution_count": null,
   "id": "c5e75b82",
   "metadata": {},
   "outputs": [],
   "source": [
    "%%bash\n",
    "emalign -set=1.0.0.0 -new -v=0\n",
    "cp b000001.0.0.0.align.pdf thirdalign_5_1.pdf"
   ]
  },
  {
   "cell_type": "markdown",
   "id": "e737a99c",
   "metadata": {},
   "source": [
    "### Checking alignment reports\n",
    "They can be found in produced pdfs, or in the al.root files in the AFF folder (**only the latest alignment!**)\n",
    "\n",
    "In particular, check that\n",
    "\n",
    "* there are clear peaks in the dy vs dx and dty vs dtx residuals after final alignment;\n",
    "* the found dz value is \"close\"(i.e., not larger or lower than 100 micron) to the expected one (-1300 micron, for 1mm W plates)"
   ]
  },
  {
   "cell_type": "code",
   "execution_count": null,
   "id": "9cc08749",
   "metadata": {},
   "outputs": [],
   "source": [
    "alreportfile = r.TFile.Open(\"AFF/1.3.0.0_1.2.0.0.al.root\")\n",
    "alreport = alreportfile.Get(\"report_al\")\n",
    "alreport.Draw()"
   ]
  },
  {
   "cell_type": "markdown",
   "id": "2f99461d",
   "metadata": {},
   "source": [
    "## Track reconstruction\n",
    "Finally, we can perform track reconstruction"
   ]
  },
  {
   "cell_type": "code",
   "execution_count": null,
   "id": "3f231937",
   "metadata": {},
   "outputs": [],
   "source": [
    "!makescanset -set=1.0.0.0 -from_plate=5 -to_plate=1 -v=2"
   ]
  },
  {
   "cell_type": "code",
   "execution_count": null,
   "id": "2f62a4a3",
   "metadata": {},
   "outputs": [],
   "source": [
    "!emtra -set=1.0.0.0 -new -v=0"
   ]
  },
  {
   "cell_type": "code",
   "execution_count": null,
   "id": "71205887",
   "metadata": {},
   "outputs": [],
   "source": [
    "trackfile = r.TFile.Open(\"b000001.0.0.0.trk.root\")\n",
    "tracktree = trackfile.Get(\"tracks\")\n",
    "tracktree.GetEntries()"
   ]
  },
  {
   "cell_type": "markdown",
   "id": "0cb2539c",
   "metadata": {},
   "source": [
    "You may notice that we did not provide a track.rootrc here.\n",
    "\n",
    "If a parameter file is not provided, it will use the default ones, from the last version of the FEDRA library.\n",
    "\n",
    "However, it is possible to check which parameters have been used, since they are stored in a .save.rootrc file (in this case, **track.save.rootrc**).\n",
    "\n",
    "Let us just check the parameter file used"
   ]
  },
  {
   "cell_type": "code",
   "execution_count": null,
   "id": "e6584a3c",
   "metadata": {},
   "outputs": [],
   "source": [
    "!cat track.save.rootrc"
   ]
  },
  {
   "cell_type": "markdown",
   "id": "907c0b03",
   "metadata": {},
   "source": []
  }
 ],
 "metadata": {
  "kernelspec": {
   "display_name": "Python 3",
   "language": "python",
   "name": "python3"
  },
  "language_info": {
   "codemirror_mode": {
    "name": "ipython",
    "version": 3
   },
   "file_extension": ".py",
   "mimetype": "text/x-python",
   "name": "python",
   "nbconvert_exporter": "python",
   "pygments_lexer": "ipython3",
   "version": "3.9.6"
  }
 },
 "nbformat": 4,
 "nbformat_minor": 5
}
