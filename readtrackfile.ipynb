{
 "cells": [
  {
   "cell_type": "markdown",
   "id": "424d88e5",
   "metadata": {
    "slideshow": {
     "slide_type": "slide"
    }
   },
   "source": [
    "# Track file analysis\n",
    "\n",
    "## Volume tracks data format\n",
    " There are the following branches in the tree:\n",
    "\n",
    "* npl - total number of plates passed by track\n",
    "* nseg - total number of segments\n",
    "* n0 - number of \"holes\" - plates where the segments were not found. In principle n0 should always be npl-nseg\n",
    "* trid - id of the track\n",
    "* t - the track itself (one EdbSegP object)\n",
    "* s - array of measured segments (array of EdbSegP objects)\n",
    "* sf - array of fitted segments (array of EdbSegP objects) \n",
    "\n",
    "The track t represents the track parameters on the one side of the long track line. \n",
    "\n",
    "The track line generally speaking is not straight and can not be represented as one vector only, but the array of vectors. In fact sf is the \"fit function\" of this track calculated according to Kalman Filter algorithm. \n",
    "\n",
    "For each measured (real) segment s[i] corresponds the fitted one sf[i] i.e. the best track estimation at the given Z. The t coincides with the first of with the last sf segment depending on the direction of the last fit. For the correct track fitting each segment s[i] should have coordinates, angles and the covariance matrix of errors set correctly. "
   ]
  },
  {
   "cell_type": "markdown",
   "id": "3e4720da",
   "metadata": {
    "slideshow": {
     "slide_type": "slide"
    }
   },
   "source": [
    "## Inspect quality of track reconstruction\n",
    "First, we can access nseg and npl to inspect the length of the reconstructed tracks"
   ]
  },
  {
   "cell_type": "code",
   "execution_count": null,
   "id": "9f730c82",
   "metadata": {
    "slideshow": {
     "slide_type": "subslide"
    }
   },
   "outputs": [],
   "source": [
    "import ROOT as r\n",
    "import fedrarootlogon\n",
    "import os"
   ]
  },
  {
   "cell_type": "code",
   "execution_count": null,
   "id": "a3b4f8f1",
   "metadata": {
    "slideshow": {
     "slide_type": "subslide"
    }
   },
   "outputs": [],
   "source": [
    "%jsroot on"
   ]
  },
  {
   "cell_type": "code",
   "execution_count": null,
   "id": "4a552d5d",
   "metadata": {
    "slideshow": {
     "slide_type": "subslide"
    }
   },
   "outputs": [],
   "source": [
    "c = r.TCanvas()\n",
    "filepath=\"/eos/experiment/sndlhc/emulsionData/2022/CERN/emu_reco/RUN1/b000044/trackfiles/rootfiles/57_1/cell_9_9/linked_tracks.root\"\n",
    "inputfile = r.TFile.Open(filepath)\n",
    "tracks = inputfile.Get(\"tracks\")\n",
    "tracks.SetLineColor(r.kGreen)\n",
    "tracks.Draw(\"nseg\",\"\",\"\")\n",
    "tracks.SetLineColor(r.kBlack)\n",
    "tracks.Draw(\"npl\",\"\",\"same\")\n",
    "\n",
    "#just adding some text on the canvas\n",
    "t4 = r.TPaveText(.4,.75,.6,.85,\"NBNDC\")\n",
    "t4.AddText(\"npl\")  \n",
    "t4.GetListOfLines().Last().SetTextColor(r.kBlack)\n",
    "t4.AddText(\"nseg\") \n",
    "t4.GetListOfLines().Last().SetTextColor(r.kGreen)\n",
    "t4.SetFillColor(r.kWhite)\n",
    "t4.Draw()\n",
    "\n",
    "c.Draw()\n",
    "    "
   ]
  },
  {
   "cell_type": "markdown",
   "id": "8c687c39",
   "metadata": {
    "slideshow": {
     "slide_type": "subslide"
    }
   },
   "source": [
    "We can see that npl has a peak at the maximum number of films (57), while nseg is quite lower, and not as regular.\n",
    "\n",
    "This means that there are holes, i.e., films with missing segments. "
   ]
  },
  {
   "cell_type": "markdown",
   "id": "2c79e4af",
   "metadata": {
    "slideshow": {
     "slide_type": "slide"
    }
   },
   "source": [
    "We can ask where the tracks start and end"
   ]
  },
  {
   "cell_type": "code",
   "execution_count": null,
   "id": "6e77d6ec",
   "metadata": {
    "slideshow": {
     "slide_type": "subslide"
    }
   },
   "outputs": [],
   "source": [
    "cplate = r.TCanvas()\n",
    "tracks.SetLineColor(r.kBlue)\n",
    "tracks.Draw(\"s[nseg-1].Plate()>>hplateend(61,0,61)\");\n",
    "tracks.SetLineColor(r.kRed)\n",
    "tracks.Draw(\"s[0].Plate()>>hplatestart(61,0,61)\",\"\",\"same\");\n",
    "\n",
    "#again, adding the legend\n",
    "t1 = r.TPaveText(.6,.6,.8,.8,\"NBNDC\");\n",
    "t1.AddText(\"First segment\")\n",
    "t1.GetListOfLines().Last().SetTextColor(r.kRed);\n",
    "t1.AddText(\"Last segment\") \n",
    "t1.GetListOfLines().Last().SetTextColor(r.kBlue);\n",
    "t1.SetFillColor(r.kWhite);\n",
    "t1.Draw();\n",
    "cplate.Draw()"
   ]
  },
  {
   "cell_type": "markdown",
   "id": "f30d5b24",
   "metadata": {
    "slideshow": {
     "slide_type": "slide"
    }
   },
   "source": [
    "Finally, we can inspect if some film is more inefficient than the others: i.e., it has less segments than the others.\n",
    "We can use a subsample of long tracks for this measurement: i.e., tracks with nseg>40"
   ]
  },
  {
   "cell_type": "code",
   "execution_count": null,
   "id": "da89c23c",
   "metadata": {
    "slideshow": {
     "slide_type": "subslide"
    }
   },
   "outputs": [],
   "source": [
    "longtracks = \"nseg>40\"\n",
    "cplates = r.TCanvas()\n",
    "tracks.Draw(\"s.Plate()>>hplate(61,0,61)\",longtracks)\n",
    "r.gROOT.FindObject(\"hplate\").SetTitle(\";Plate\")\n",
    "cplates.Draw()"
   ]
  },
  {
   "cell_type": "markdown",
   "id": "b0c19f0c",
   "metadata": {
    "slideshow": {
     "slide_type": "slide"
    }
   },
   "source": [
    "## Example of tracks tree reading with standard loop\n",
    "\n",
    "Until now, we have used simple TTree->Draw functions to access the TTree contents.\n",
    "\n",
    "Low-level analysis requires to access the single objects, so we will now show an example with a simple TTree.\n",
    "\n",
    "Volume-tracks are in FEDRA represented as **EdbTrackP** objects, while base-tracks as **EdbSegP** objects.\n",
    "\n",
    "We can ask directly python which functions we have available"
   ]
  },
  {
   "cell_type": "code",
   "execution_count": null,
   "id": "6871942e",
   "metadata": {
    "slideshow": {
     "slide_type": "subslide"
    }
   },
   "outputs": [],
   "source": [
    "#initializing empty reference system\n",
    "dproc = r.EdbDataProc()\n",
    "ali = r.EdbPVRec()\n",
    "scancond = r.EdbScanCond()\n",
    "ali.SetScanCond(scancond)"
   ]
  },
  {
   "cell_type": "code",
   "execution_count": null,
   "id": "3c32024e",
   "metadata": {
    "slideshow": {
     "slide_type": "subslide"
    }
   },
   "outputs": [],
   "source": [
    "dproc.ReadTracksTree(ali,filepath,\"npl==57\") #just a few tracks for example"
   ]
  },
  {
   "cell_type": "code",
   "execution_count": null,
   "id": "24c43514",
   "metadata": {
    "slideshow": {
     "slide_type": "subslide"
    }
   },
   "outputs": [],
   "source": [
    "htx = r.TH1D(\"htx\",\"TX of tracks;TX\", 75,1.5,1.5)\n",
    "hsz = r.TH1D(\"hsz\",\"Z of segment positions;z[#mum]\",100,-100000,1000)"
   ]
  },
  {
   "cell_type": "markdown",
   "id": "bb8ca4e1",
   "metadata": {
    "slideshow": {
     "slide_type": "slide"
    }
   },
   "source": [
    "## Starting loop\n",
    "\n",
    "We do a loop on tracks, and a loop on segments from the track"
   ]
  },
  {
   "cell_type": "code",
   "execution_count": null,
   "id": "ecda8f04",
   "metadata": {
    "slideshow": {
     "slide_type": "subslide"
    }
   },
   "outputs": [],
   "source": [
    "for track in ali.eTracks:\n",
    "    htx.Fill(track.TX())\n",
    "    for iseg in range(track.N()):\n",
    "        segment = track.GetSegment(iseg)\n",
    "        hsz.Fill(segment.Z())"
   ]
  },
  {
   "cell_type": "code",
   "execution_count": null,
   "id": "77acf46e",
   "metadata": {
    "slideshow": {
     "slide_type": "subslide"
    }
   },
   "outputs": [],
   "source": [
    "alltracks = ali.eTracks\n",
    "len(alltracks)"
   ]
  },
  {
   "cell_type": "code",
   "execution_count": null,
   "id": "8cb1161b",
   "metadata": {
    "slideshow": {
     "slide_type": "subslide"
    }
   },
   "outputs": [],
   "source": [
    "ctx = r.TCanvas(\"ctx\",\"TX angle of tracks\")\n",
    "htx.DrawClone()\n",
    "ctx.Draw()"
   ]
  },
  {
   "cell_type": "code",
   "execution_count": null,
   "id": "0d6a2302",
   "metadata": {
    "slideshow": {
     "slide_type": "subslide"
    }
   },
   "outputs": [],
   "source": [
    "csz = r.TCanvas(\"csz\",\"Z position of track segments\")\n",
    "hsz.DrawClone()\n",
    "csz.Draw()"
   ]
  },
  {
   "cell_type": "code",
   "execution_count": null,
   "id": "d9155f1b",
   "metadata": {
    "slideshow": {
     "slide_type": "subslide"
    }
   },
   "outputs": [],
   "source": [
    "whatisatrack = ali.eTracks[0]\n",
    "help(whatisatrack)"
   ]
  },
  {
   "cell_type": "code",
   "execution_count": null,
   "id": "664fb4b5",
   "metadata": {
    "slideshow": {
     "slide_type": "subslide"
    }
   },
   "outputs": [],
   "source": [
    "whatisaseg = whatisatrack.GetSegment(0)\n",
    "help(whatisaseg)"
   ]
  }
 ],
 "metadata": {
  "@webio": {
   "lastCommId": null,
   "lastKernelId": null
  },
  "celltoolbar": "Slideshow",
  "kernelspec": {
   "display_name": "Python 3",
   "language": "python",
   "name": "python3"
  },
  "language_info": {
   "codemirror_mode": {
    "name": "ipython",
    "version": 3
   },
   "file_extension": ".py",
   "mimetype": "text/x-python",
   "name": "python",
   "nbconvert_exporter": "python",
   "pygments_lexer": "ipython3",
   "version": "3.9.12"
  }
 },
 "nbformat": 4,
 "nbformat_minor": 5
}
