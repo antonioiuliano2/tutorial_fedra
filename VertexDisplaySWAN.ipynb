{
 "cells": [
  {
   "cell_type": "code",
   "execution_count": null,
   "id": "2a5e507a",
   "metadata": {
    "slideshow": {
     "slide_type": "slide"
    }
   },
   "outputs": [],
   "source": [
    "import ROOT\n",
    "import fedrarootlogon"
   ]
  },
  {
   "cell_type": "code",
   "execution_count": null,
   "id": "1732c8a7",
   "metadata": {
    "slideshow": {
     "slide_type": "subslide"
    }
   },
   "outputs": [],
   "source": [
    "filepath=\"/eos/experiment/sndlhc/emulsionData/2022/emureco_Napoli/RUN3/b000044/trackfiles/rootfiles/57_1/cell_7_4/vertextree.root\""
   ]
  },
  {
   "cell_type": "code",
   "execution_count": null,
   "id": "b8170849",
   "metadata": {
    "slideshow": {
     "slide_type": "slide"
    }
   },
   "outputs": [],
   "source": [
    "ds = ROOT.EdbDisplay(\"test\",-50000.,50000.,-50000.,50000.,-4000.,80000.)\n",
    "def drawvertex(vID, imagefilename, view = \"side\"):\n",
    " gAli = ROOT.EdbPVRec()\n",
    " proc = ROOT.EdbDataProc()\n",
    " scancond = ROOT.EdbScanCond()\n",
    " gAli.SetScanCond(scancond)\n",
    "\n",
    " vertexrec = ROOT.EdbVertexRec()\n",
    " vertexrec.SetPVRec(gAli)\n",
    " vertexrec.eDZmax=3000.\n",
    " vertexrec.eProbMin=0.01\n",
    " vertexrec.eImpMax=15.\n",
    " vertexrec.eUseMom=False\n",
    " vertexrec.eUseSegPar=True\n",
    " vertexrec.eQualityMode=0\n",
    "\n",
    " drawntracksfromvertex = ROOT.TObjArray()\n",
    " drawnvertices = ROOT.TObjArray()   \n",
    "    \n",
    " vertex = proc.GetVertexFromTree(vertexrec,filepath,vID)\n",
    " ntracksfromvertex = vertex.N()\n",
    " #adding tracks and vertices to list to be drawn (only one vertex in this case)\n",
    " drawnvertices.Add(vertex)\n",
    "\n",
    " for i in range(ntracksfromvertex):\n",
    "   vertextrack = vertex.GetTrack(i)\n",
    "   nseg = vertextrack.N()\n",
    "   for iseg in range(nseg):\n",
    "     segment = vertextrack.GetSegment(iseg)\n",
    "     segment.SetDZ(300.)\n",
    "   drawntracksfromvertex.Add(vertextrack)\n",
    "\n",
    " ds.SetArrV( drawnvertices)\n",
    " ds.SetDrawTracks(4)\n",
    " ds.SetArrTr( drawntracksfromvertex)\n",
    "\n",
    " if view == \"front\":\n",
    "  ds.SetView(180,0,90) #front view\n",
    " elif view == \"side\":\n",
    "  ds.SetView(180,90,90) #side view\n",
    " elif view == \"top\":\n",
    "  ds.SetView(90,90,90) # top view\n",
    " else:\n",
    "  print(\"Not recognized view, not set\")\n",
    "\n",
    " ds.GuessRange()\n",
    " ds.Draw()\n",
    " drawncanvas = ds.fCanvas\n",
    " drawncanvas.SaveAs(imagefilename)"
   ]
  },
  {
   "cell_type": "code",
   "execution_count": null,
   "id": "bd0f9f0e",
   "metadata": {
    "slideshow": {
     "slide_type": "slide"
    }
   },
   "outputs": [],
   "source": [
    "vID = 65549\n",
    "drawvertex(vID, \"comparisonvertex_side.png\",\"top\")\n",
    "\n",
    "from IPython.display import Image, display\n",
    "display(Image(filename='comparisonvertex_side.png'))"
   ]
  }
 ],
 "metadata": {
  "@webio": {
   "lastCommId": null,
   "lastKernelId": null
  },
  "celltoolbar": "Slideshow",
  "kernelspec": {
   "display_name": "Python 3",
   "language": "python",
   "name": "python3"
  },
  "language_info": {
   "codemirror_mode": {
    "name": "ipython",
    "version": 3
   },
   "file_extension": ".py",
   "mimetype": "text/x-python",
   "name": "python",
   "nbconvert_exporter": "python",
   "pygments_lexer": "ipython3",
   "version": "3.9.12"
  }
 },
 "nbformat": 4,
 "nbformat_minor": 5
}
