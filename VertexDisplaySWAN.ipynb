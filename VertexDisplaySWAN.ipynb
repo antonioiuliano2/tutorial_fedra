{
 "cells": [
  {
   "cell_type": "code",
   "execution_count": 1,
   "id": "2a5e507a",
   "metadata": {},
   "outputs": [
    {
     "name": "stdout",
     "output_type": "stream",
     "text": [
      "Welcome to JupyROOT 6.28/06\n",
      "Load FEDRA libs\n"
     ]
    }
   ],
   "source": [
    "import ROOT\n",
    "import fedrarootlogon"
   ]
  },
  {
   "cell_type": "code",
   "execution_count": 2,
   "id": "1732c8a7",
   "metadata": {},
   "outputs": [],
   "source": [
    "filepath=\"/eos/experiment/sndlhc/emulsionData/2022/emureco_Napoli/RUN3/b000044/trackfiles/rootfiles/57_1/cell_7_4/vertextree.root\""
   ]
  },
  {
   "cell_type": "code",
   "execution_count": 3,
   "id": "b8170849",
   "metadata": {},
   "outputs": [],
   "source": [
    "ds = ROOT.EdbDisplay(\"test\",-50000.,50000.,-50000.,50000.,-4000.,80000.)\n",
    "def drawvertex(vID, imagefilename, view = \"side\"):\n",
    " gAli = ROOT.EdbPVRec()\n",
    " proc = ROOT.EdbDataProc()\n",
    " scancond = ROOT.EdbScanCond()\n",
    " gAli.SetScanCond(scancond)\n",
    "\n",
    " vertexrec = ROOT.EdbVertexRec()\n",
    " vertexrec.SetPVRec(gAli)\n",
    " vertexrec.eDZmax=3000.\n",
    " vertexrec.eProbMin=0.01\n",
    " vertexrec.eImpMax=15.\n",
    " vertexrec.eUseMom=False\n",
    " vertexrec.eUseSegPar=True\n",
    " vertexrec.eQualityMode=0\n",
    "\n",
    " drawntracksfromvertex = ROOT.TObjArray()\n",
    " drawnvertices = ROOT.TObjArray()   \n",
    "    \n",
    " vertex = proc.GetVertexFromTree(vertexrec,filepath,vID)\n",
    " ntracksfromvertex = vertex.N()\n",
    " #adding tracks and vertices to list to be drawn (only one vertex in this case)\n",
    " drawnvertices.Add(vertex)\n",
    "\n",
    " for i in range(ntracksfromvertex):\n",
    "   vertextrack = vertex.GetTrack(i)\n",
    "   nseg = vertextrack.N()\n",
    "   for iseg in range(nseg):\n",
    "     segment = vertextrack.GetSegment(iseg)\n",
    "     segment.SetDZ(300.)\n",
    "   drawntracksfromvertex.Add(vertextrack)\n",
    "\n",
    " ds.SetArrV( drawnvertices)\n",
    " ds.SetDrawTracks(4)\n",
    " ds.SetArrTr( drawntracksfromvertex)\n",
    "\n",
    " if view == \"front\":\n",
    "  ds.SetView(180,0,90) #front view\n",
    " elif view == \"side\":\n",
    "  ds.SetView(180,90,90) #side view\n",
    " elif view == \"top\":\n",
    "  ds.SetView(90,90,90) # top view\n",
    " else:\n",
    "  print(\"Not recognized view, not set\")\n",
    "\n",
    " ds.GuessRange()\n",
    " ds.Draw()\n",
    " drawncanvas = ds.fCanvas\n",
    " drawncanvas.SaveAs(imagefilename)"
   ]
  },
  {
   "cell_type": "code",
   "execution_count": 11,
   "id": "bd0f9f0e",
   "metadata": {},
   "outputs": [
    {
     "data": {
      "image/png": "[encoded data removed]",
      "text/plain": [
       "<IPython.core.display.Image object>"
      ]
     },
     "metadata": {},
     "output_type": "display_data"
    },
    {
     "name": "stdout",
     "output_type": "stream",
     "text": [
      "EdbDataProc::ReadVtxTree: select 1 of 79701 vertices by cut vID==65549\n",
      "EdbDataProc::ReadVertexTree: WARNING: no pattern with pid 30: creating new one!\n",
      "EdbDataProc::ReadVertexTree: WARNING: no pattern with pid 29: creating new one!\n",
      "EdbDataProc::ReadVertexTree: WARNING: no pattern with pid 28: creating new one!\n",
      "EdbDataProc::ReadVertexTree: WARNING: no pattern with pid 26: creating new one!\n",
      "EdbDataProc::ReadVertexTree: WARNING: no pattern with pid 25: creating new one!\n",
      "EdbDataProc::ReadVertexTree: WARNING: no pattern with pid 23: creating new one!\n",
      "EdbDataProc::ReadVertexTree: WARNING: no pattern with pid 22: creating new one!\n",
      "EdbDataProc::ReadVertexTree: WARNING: no pattern with pid 21: creating new one!\n",
      "EdbDataProc::ReadVertexTree: WARNING: no pattern with pid 20: creating new one!\n",
      "EdbDataProc::ReadVertexTree: WARNING: no pattern with pid 19: creating new one!\n",
      "EdbDataProc::ReadVertexTree: WARNING: no pattern with pid 18: creating new one!\n",
      "EdbDataProc::ReadVertexTree: WARNING: no pattern with pid 16: creating new one!\n",
      "EdbDataProc::ReadVertexTree: WARNING: no pattern with pid 15: creating new one!\n",
      "EdbDataProc::ReadVertexTree: WARNING: no pattern with pid 14: creating new one!\n",
      "EdbDataProc::ReadVertexTree: WARNING: no pattern with pid 12: creating new one!\n",
      "EdbDataProc::ReadVertexTree: WARNING: no pattern with pid 11: creating new one!\n",
      "EdbDataProc::ReadVertexTree: WARNING: no pattern with pid 10: creating new one!\n",
      "EdbDataProc::ReadVertexTree: WARNING: no pattern with pid 8: creating new one!\n",
      "EdbDataProc::ReadVertexTree: WARNING: no pattern with pid 5: creating new one!\n",
      "EdbDataProc::ReadVertexTree: WARNING: no pattern with pid 4: creating new one!\n",
      "EdbDataProc::ReadVertexTree: WARNING: no pattern with pid 3: creating new one!\n",
      "EdbDataProc::ReadVertexTree: WARNING: no pattern with pid 27: creating new one!\n",
      "EdbDataProc::ReadVertexTree: WARNING: no pattern with pid 13: creating new one!\n",
      "EdbDataProc::ReadVertexTree: WARNING: no pattern with pid 7: creating new one!\n",
      "EdbDataProc::ReadVertexTree: WARNING: no pattern with pid 2: creating new one!\n",
      "EdbDataProc::ReadVertexTree: WARNING: no pattern with pid 0: creating new one!\n",
      "EdbDataProc::ReadVertexTree: WARNING: no pattern with pid 17: creating new one!\n",
      "EdbDataProc::ReadVertexTree: WARNING: no pattern with pid 9: creating new one!\n",
      "EdbDataProc::ReadVertexTree: WARNING: no pattern with pid 6: creating new one!\n",
      "EdbDataProc::ReadVertexTree: WARNING: no pattern with pid 1: creating new one!\n",
      "EdbDataProc::ReadVtxTree: 1 vertices are read\n",
      "Guess Range:\n",
      "X:   149761.9   154251.1\n",
      "Y:    36061.5    41003.9\n",
      "Z:   -42985.0     1000.0\n",
      "7 tracks to draw...\n",
      "1 vertices to draw...\n",
      "EdbDisplay::VertexDraw: id=65549  7-prong  flag = 3\n"
     ]
    },
    {
     "name": "stderr",
     "output_type": "stream",
     "text": [
      "Info in <TCanvas::Print>: png file comparisonvertex_side.png has been created\n"
     ]
    }
   ],
   "source": [
    "vID = 65549\n",
    "drawvertex(vID, \"comparisonvertex_side.png\",\"top\")\n",
    "\n",
    "from IPython.display import Image, display\n",
    "display(Image(filename='comparisonvertex_side.png'))"
   ]
  },
  {
   "cell_type": "code",
   "execution_count": null,
   "id": "07ca6a1f",
   "metadata": {},
   "outputs": [],
   "source": [
    "drawvertex(10)"
   ]
  },
  {
   "cell_type": "code",
   "execution_count": null,
   "id": "d1e3444b",
   "metadata": {},
   "outputs": [],
   "source": []
  }
 ],
 "metadata": {
  "@webio": {
   "lastCommId": null,
   "lastKernelId": null
  },
  "kernelspec": {
   "display_name": "Python 3",
   "language": "python",
   "name": "python3"
  },
  "language_info": {
   "codemirror_mode": {
    "name": "ipython",
    "version": 3
   },
   "file_extension": ".py",
   "mimetype": "text/x-python",
   "name": "python",
   "nbconvert_exporter": "python",
   "pygments_lexer": "ipython3",
   "version": "3.9.12"
  }
 },
 "nbformat": 4,
 "nbformat_minor": 5
}
