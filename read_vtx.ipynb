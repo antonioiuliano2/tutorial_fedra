{
 "cells": [
  {
   "cell_type": "markdown",
   "id": "717d7153",
   "metadata": {},
   "source": [
    "# Accessing data from reconstructed vertices\n",
    "\n",
    "In this tutorial, we will open a file with reconstructed vertices and inspect the data structure\n",
    "\n",
    "First, let us set up the FEDRA configuration as usual"
   ]
  },
  {
   "cell_type": "code",
   "execution_count": null,
   "id": "e08e5b2b",
   "metadata": {},
   "outputs": [],
   "source": [
    "%jsroot on"
   ]
  },
  {
   "cell_type": "code",
   "execution_count": null,
   "id": "da5c0ed3",
   "metadata": {},
   "outputs": [],
   "source": [
    "TString fedrapath(gSystem->Getenv(\"FEDRA_ROOT\"));\n",
    "gROOT->ProcessLine((TString(\".x \")+fedrapath+TString(\"/macros/rootlogon.C\")).Data())"
   ]
  },
  {
   "cell_type": "markdown",
   "id": "484d2f95",
   "metadata": {},
   "source": [
    "# Open the file and getting the TTree\n",
    "\n",
    "The TTree is named \"vtx\".\n",
    "\n",
    "We will read it with the RDataFrame class, https://root.cern/doc/master/classROOT_1_1RDataFrame.html,\n",
    "\n",
    "which allows to easily explain its structure"
   ]
  },
  {
   "cell_type": "markdown",
   "id": "f6577327",
   "metadata": {},
   "source": [
    "## Vertex Tree Data format\n",
    "\n",
    "The Tree contains the following information\n",
    "Scalar branches (i.e. one number for vertex):\n",
    "\n",
    "* n: vertex molteplicity (accessed with N());\n",
    "\n",
    "* vx,vy,vz: coordinates of reconstructed vertex (accessed with VX(), VY(), VZ());\n",
    "\n",
    "* vCOV: covariance matrix of vertex position (stored as TMatrixD)\n",
    "\n",
    "* meanvx,meanvy,meanvz: mean point of starting tracks (accessed with X(), Y(),Z());\n",
    "\n",
    "* maxaperture; maximum angle between tracks in the vertex (computed with MaxAperture ());\n",
    "\n",
    "* probability: probability of vertex from fit (accessed with V()->prob());\n",
    "\n",
    "* flag: a flag providing information about vertex topology (accessed with Flag()):\n",
    "        flag 0: neutral (tracks' starts attached only\n",
    "        flag 1: charge (tracks' ends&starts attached\n",
    "        flag 2: back neutral (tracks' ends attached only\n",
    "\n",
    "    The following flags are similar to the previous one, but they add the information that vertex has common tracks to at least another vertex (if LinkedVertexes () has been called)\n",
    "        flag 3: neutral, linked (has common tracks with other vertex, only if LinkedVertexes () has been called)\n",
    "        flag 4: charge, linked\n",
    "        flag 5: back neutral, linked\n",
    "        flag -10: discarded vertices (all tracks were associated to higher rank vertices)."
   ]
  },
  {
   "cell_type": "code",
   "execution_count": null,
   "id": "ee572fe3",
   "metadata": {},
   "outputs": [],
   "source": [
    "TString filepath(\n",
    "//\"/eos/user/f/falicant/handson_FEDRA/b000021/trackfiles/rootfiles/47_41/cell_9_9/vertextree.root\");    \n",
    "\"/eos/experiment/sndlhc/emulsionData/2022/emureco_Napoli/RUN3/b000044/trackfiles/rootfiles/57_1/cell_7_4/vertextree.root\");\n",
    "TFile *vertexfile = TFile::Open(filepath);\n",
    "TTree *vertextree = (TTree*) vertexfile->Get(\"vtx\")\n"
   ]
  },
  {
   "cell_type": "code",
   "execution_count": null,
   "id": "759ce6d7",
   "metadata": {},
   "outputs": [],
   "source": [
    "using namespace ROOT;"
   ]
  },
  {
   "cell_type": "code",
   "execution_count": null,
   "id": "886114a0",
   "metadata": {},
   "outputs": [],
   "source": [
    "RDataFrame df(*vertextree); //loading a dataframe with tracks info"
   ]
  },
  {
   "cell_type": "code",
   "execution_count": null,
   "id": "5495aae9",
   "metadata": {},
   "outputs": [],
   "source": [
    "//getting n, flag and probability\n",
    "auto hn = df.Histo1D<int>(\"n\"); //like TTree->Draw(), RDataFrame can infer range from data\n",
    "auto hflag = df.Histo1D<int>(\"flag\");\n",
    "auto hprob = df.Histo1D({\"hprob\",\"Probability\",110,0.,1.1},\"probability\"); //or we can provide it\n"
   ]
  },
  {
   "cell_type": "code",
   "execution_count": null,
   "id": "ccf1fe37",
   "metadata": {},
   "outputs": [],
   "source": [
    "//draw histograms\n",
    "TCanvas *cprob= new TCanvas();\n",
    "hprob->DrawClone();\n",
    "cprob->Draw();"
   ]
  },
  {
   "cell_type": "code",
   "execution_count": null,
   "id": "8af57023",
   "metadata": {},
   "outputs": [],
   "source": [
    "//draw histograms\n",
    "TCanvas *cn= new TCanvas();\n",
    "hn->DrawClone();\n",
    "cn->Draw();"
   ]
  },
  {
   "cell_type": "code",
   "execution_count": null,
   "id": "c57bf675",
   "metadata": {},
   "outputs": [],
   "source": [
    "TCanvas *cflag= new TCanvas();\n",
    "hflag->DrawClone();\n",
    "cflag->Draw();"
   ]
  },
  {
   "cell_type": "markdown",
   "id": "6e2dd1b1",
   "metadata": {},
   "source": [
    "Array branches (i.e. track properties):\n",
    "\n",
    "* nseg[itrk]: number of found segments for each track (accessed with track->N());\n",
    "* npl[itrk]: number of expeceted segments for each track (accessed with track->Npl());\n",
    "* incoming[itrk]: tell us if track ends or start at vertex (accessed with GetVTa (itrk)->ZPos()). 1-track start, 0-track end connect to the vertex\n",
    "* nholes[itrk]; number of holes for each track (accessed with track->N0());\n",
    "* maxgap[itrk]: maximum gap between segments of each track (accessed with track->CheckMaxGap());\n",
    "* impactparameter[itrk]: impact parameter of track with respect to vertex (accessed with vertex->GetVTa(itrk)->Imp());"
   ]
  },
  {
   "cell_type": "markdown",
   "id": "0b9e59ce",
   "metadata": {},
   "source": [
    "Arrays of FEDRA objects (as from linked_tracks.root format)\n",
    "\n",
    "* t.: TClonesArray of EdbSegP with tracks information;\n",
    "* s: TClonesArray of EdbSegP with segments information for each track;\n",
    "* sf: TClonesArray of EdbSegP with fitted segments information for each track;\n",
    "\n",
    "The following branches are to be used only in vertices from MC simulations, no sense in real data:\n",
    "\n",
    " * MCEventID[itrk]: true MCEventID of each track (accessed with track->MCEvt());\n",
    " * MCTrackID[itrk]: true MCTrackID of each track (accessed with track->MCTrack());\n",
    " * MCTrackPdgCode[itrk]: true MCTrack PdgCode of each track (accessed with track->Vid(0));\n",
    " * MCMotherID[itrk]: true MCMotherID of each track (accessed with track->Aid(0));"
   ]
  },
  {
   "cell_type": "code",
   "execution_count": null,
   "id": "02a2d1b0",
   "metadata": {},
   "outputs": [],
   "source": [
    "const int from_plate = 57; //this sets our reference system. Which is the last plate, which is the first?\n",
    "const int to_plate = 1;"
   ]
  },
  {
   "cell_type": "code",
   "execution_count": null,
   "id": "78b91aa0",
   "metadata": {},
   "outputs": [],
   "source": [
    "auto df1 = df.Define(\"t_Plate\",Form(\"%d-t.ePID\",from_plate));"
   ]
  },
  {
   "cell_type": "code",
   "execution_count": null,
   "id": "79a8170f",
   "metadata": {},
   "outputs": [],
   "source": [
    "auto mydisplay = df1.Filter(\"flag==4 && n>4\").Display({\"vID\",\"vz\",\"n\",\"t.eZ\",\"t_Plate\",\"incoming\"},10);\n",
    "mydisplay->Print();"
   ]
  },
  {
   "cell_type": "code",
   "execution_count": null,
   "id": "3e220782",
   "metadata": {},
   "outputs": [],
   "source": [
    "auto mydisplay = df1.Filter(\"flag==3 && n>4\").Display({\"vID\",\"vz\",\"n\",\"t.eZ\",\"t_Plate\",\"t.ePID\",\"incoming\"},10);\n",
    "mydisplay->Print();"
   ]
  },
  {
   "cell_type": "markdown",
   "id": "1bb714ce",
   "metadata": {},
   "source": [
    "## Adding fill factor\n",
    "\n",
    "We often need to compute additional branches, starting from the ones in the reconstructed TTree.\n",
    "\n",
    "We show a quick example with the fill factor, a variable is used to inspect how well the tracks were reconstructed.\n",
    "\n",
    "The fill factor is defined as the ratio between the number of filled films **nseg** (i.e., where the track has segments) and the number of available films **nava**\n",
    "\n",
    "We can compute it and add it to our dataframe"
   ]
  },
  {
   "cell_type": "code",
   "execution_count": null,
   "id": "792cc5b0",
   "metadata": {},
   "outputs": [],
   "source": [
    "auto df2 = df1.Define(\"nava\",Form(\"%d - %d - t_Plate + 2\",from_plate, to_plate)).Define(\"ff\",\"(RVec<float>)nseg/nava\");"
   ]
  },
  {
   "cell_type": "code",
   "execution_count": null,
   "id": "a1073d9b",
   "metadata": {},
   "outputs": [],
   "source": [
    "auto hff = df2.Histo1D(\"ff\");"
   ]
  },
  {
   "cell_type": "code",
   "execution_count": null,
   "id": "8523308c",
   "metadata": {},
   "outputs": [],
   "source": [
    "TCanvas *cff = new TCanvas();\n",
    "hff->DrawClone();\n",
    "cff->Draw();"
   ]
  },
  {
   "cell_type": "code",
   "execution_count": null,
   "id": "a3f797a3",
   "metadata": {},
   "outputs": [],
   "source": []
  },
  {
   "cell_type": "code",
   "execution_count": null,
   "id": "41e3b3ca",
   "metadata": {},
   "outputs": [],
   "source": []
  }
 ],
 "metadata": {
  "@webio": {
   "lastCommId": null,
   "lastKernelId": null
  },
  "kernelspec": {
   "display_name": "ROOT C++",
   "language": "c++",
   "name": "root"
  },
  "language_info": {
   "codemirror_mode": "text/x-c++src",
   "file_extension": ".C",
   "mimetype": " text/x-c++src",
   "name": "c++"
  }
 },
 "nbformat": 4,
 "nbformat_minor": 5
}
