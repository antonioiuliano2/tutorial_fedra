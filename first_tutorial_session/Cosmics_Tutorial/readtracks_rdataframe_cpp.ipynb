{
 "cells": [
  {
   "cell_type": "markdown",
   "id": "65245bf6",
   "metadata": {},
   "source": [
    "## Testing rdataframe tracktree reading in swan\n",
    "First we define useful functions"
   ]
  },
  {
   "cell_type": "code",
   "execution_count": null,
   "id": "d269b73d",
   "metadata": {},
   "outputs": [],
   "source": [
    "gROOT->ProcessLine(\".x /eos/experiment/sndlhc/users/aiulian/fedraxswan/macros/rootlogon.C\")"
   ]
  },
  {
   "cell_type": "code",
   "execution_count": null,
   "id": "8f0b0668",
   "metadata": {},
   "outputs": [],
   "source": [
    "EdbSegP GetFirstSegment(TClonesArray sf){\n",
    "  //getting first segment, equivalent to t., which creates problem to RDataFrame due to branch name\n",
    "  EdbSegP* firstseg = (EdbSegP*) sf.At(0);\n",
    "  EdbSegP tr(*firstseg);\n",
    "  return tr;\n",
    "}"
   ]
  },
  {
   "cell_type": "code",
   "execution_count": null,
   "id": "67b6339b",
   "metadata": {},
   "outputs": [],
   "source": [
    "TString path_prefix = TString(getenv(\"CERNBOX_HOME\"));\n",
    "path_prefix.Data()"
   ]
  },
  {
   "cell_type": "code",
   "execution_count": null,
   "id": "4b18b16d",
   "metadata": {},
   "outputs": [],
   "source": [
    "TFile *tracksfile = TFile::Open((path_prefix+TString(\"/SNDCosmics_tutorial/b000001/b000001.0.0.0.trk.root\")).Data());\n",
    "TTree *trackstree = (TTree*) tracksfile->Get(\"tracks\");\n",
    "ROOT::RDataFrame df(*trackstree);"
   ]
  },
  {
   "cell_type": "code",
   "execution_count": null,
   "id": "ab45ca43",
   "metadata": {},
   "outputs": [],
   "source": [
    "auto colNames = df.GetColumnNames();\n",
    "// Print columns' names\n",
    "for (auto &&colName : colNames) std::cout << colName << std::endl;"
   ]
  },
  {
   "cell_type": "code",
   "execution_count": null,
   "id": "51225628",
   "metadata": {},
   "outputs": [],
   "source": [
    "auto dftr = df.Define(\"tr\",GetFirstSegment,{\"sf\"});"
   ]
  },
  {
   "cell_type": "markdown",
   "id": "969cd222",
   "metadata": {},
   "source": [
    "## Definition of variables\n",
    "Here, it is useful to define the variables we want to access. They can be transformed, when required (3D angle, change of units, etc.).\n",
    "\n",
    "Calling the attributes directly (aka \"tr.eTX\") is not supported and not recommended. Better to use accessors (\"tr.TX()\")"
   ]
  },
  {
   "cell_type": "code",
   "execution_count": null,
   "id": "be1307d8",
   "metadata": {},
   "outputs": [],
   "source": [
    "auto dftr1 = dftr.Define(\"TX\",\"tr.TX()  \")\n",
    "                 .Define(\"TY\",\"tr.TY()  \")\n",
    "                 .Define(\"Xcm\",\"tr.X()*1e-4  \")\n",
    "                 .Define(\"Ycm\",\"tr.Y()*1e-4  \");"
   ]
  },
  {
   "cell_type": "code",
   "execution_count": null,
   "id": "83356095",
   "metadata": {},
   "outputs": [],
   "source": [
    "//3D angles\n",
    "auto dftr2 = dftr1.Define(\"tantheta\",\"tr.Theta()\").Define(\"theta\",\"TMath::ATan(tantheta)\");\n",
    "\n",
    "//selecting good tracks (aka long, in this case\n",
    "auto dfgoodtr = dftr2.Filter(\"nseg>2\");"
   ]
  },
  {
   "cell_type": "code",
   "execution_count": null,
   "id": "6a128b46",
   "metadata": {},
   "outputs": [],
   "source": [
    "auto htx = dfgoodtr.Histo1D({\"htx\",\"TX of tracks;TX\", 75,1.5,1.5},\"TX\");\n",
    "TCanvas *ctx = new TCanvas(\"ctx\",\"TX angle\");\n",
    "htx->DrawClone();\n",
    "ctx->Draw();"
   ]
  },
  {
   "cell_type": "code",
   "execution_count": null,
   "id": "420e432f",
   "metadata": {},
   "outputs": [],
   "source": [
    "auto hty = dfgoodtr.Histo1D({\"hty\",\"TY of tracks;TY\", 75,1.5,1.5},\"TY\");\n",
    "TCanvas *cty = new TCanvas(\"cty\",\"TY angle\");\n",
    "hty->DrawClone();\n",
    "cty->Draw();"
   ]
  },
  {
   "cell_type": "code",
   "execution_count": null,
   "id": "8703cd2e",
   "metadata": {},
   "outputs": [],
   "source": [
    "hty->GetEntries()"
   ]
  },
  {
   "cell_type": "code",
   "execution_count": null,
   "id": "baf1aa81",
   "metadata": {},
   "outputs": [],
   "source": [
    "auto hsz = dfgoodtr.Histo1D(\"s.eZ\");\n",
    "TCanvas *cz = new TCanvas(\"cz\",\"Z Position of segments\");\n",
    "hsz->DrawClone();\n",
    "cz->Draw();"
   ]
  },
  {
   "cell_type": "code",
   "execution_count": null,
   "id": "5014c338",
   "metadata": {},
   "outputs": [],
   "source": []
  }
 ],
 "metadata": {
  "kernelspec": {
   "display_name": "ROOT C++",
   "language": "c++",
   "name": "root"
  },
  "language_info": {
   "codemirror_mode": "text/x-c++src",
   "file_extension": ".C",
   "mimetype": " text/x-c++src",
   "name": "c++"
  }
 },
 "nbformat": 4,
 "nbformat_minor": 5
}
